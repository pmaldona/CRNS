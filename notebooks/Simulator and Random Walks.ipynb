{
 "cells": [
  {
   "cell_type": "markdown",
   "id": "20b41c75",
   "metadata": {},
   "source": [
    "# Simulator and Random Walks\n",
    "\n",
    "## Initialization of a dynamic model\n",
    "The library includes a module (RNSRW) that allows the simulation of reaction networks under mass action law kinbetics. This module also allows to perturb the reaction network in different ways. As well as simulating a random walk, where each step consists of a simulation given a convergence time, which is then perturbed in different ways.  As useal in first intace we load the libray:"
   ]
  },
  {
   "cell_type": "code",
   "execution_count": 1,
   "id": "e6d35d95",
   "metadata": {},
   "outputs": [
    {
     "name": "stdout",
     "output_type": "stream",
     "text": [
      "\u001b[33mWARNING: Skipping /opt/homebrew/lib/python3.11/site-packages/six-1.16.0-py3.11.egg-info due to invalid metadata entry 'name'\u001b[0m\u001b[33m\n",
      "\u001b[0m\u001b[33mWARNING: Skipping /opt/homebrew/lib/python3.11/site-packages/six-1.16.0-py3.11.egg-info due to invalid metadata entry 'name'\u001b[0m\u001b[33m\n",
      "\u001b[0m\u001b[33mWARNING: Skipping /opt/homebrew/lib/python3.11/site-packages/six-1.16.0-py3.11.egg-info due to invalid metadata entry 'name'\u001b[0m\u001b[33m\n",
      "\u001b[0m\u001b[33mWARNING: Skipping /opt/homebrew/lib/python3.11/site-packages/six-1.16.0-py3.11.egg-info due to invalid metadata entry 'name'\u001b[0m\u001b[33m\n",
      "\u001b[0m\u001b[33mWARNING: Skipping /opt/homebrew/lib/python3.11/site-packages/six-1.16.0-py3.11.egg-info due to invalid metadata entry 'name'\u001b[0m\u001b[33m\n",
      "\u001b[0m\u001b[33mWARNING: Skipping /opt/homebrew/lib/python3.11/site-packages/six-1.16.0-py3.11.egg-info due to invalid metadata entry 'name'\u001b[0m\u001b[33m\n",
      "\u001b[0m"
     ]
    }
   ],
   "source": [
    "import sys\n",
    "!{sys.executable} -m pip install ../. --quiet --user #installation of library in local enviorment\n",
    "from pyRN import pyRN\n",
    "import numpy as np"
   ]
  },
  {
   "cell_type": "markdown",
   "id": "cd6f763d",
   "metadata": {},
   "source": [
    "Once a network has been initialized using the `setRandomgeneratedWhitInflow()` function, a mass action kinetic model can be initialized using the `setMakModel()` function: "
   ]
  },
  {
   "cell_type": "code",
   "execution_count": 2,
   "id": "18814cbe",
   "metadata": {},
   "outputs": [],
   "source": [
    "RN=pyRN.setRandomgeneratedWithInflow()\n",
    "RN.setMakModel(i_sp=None,rt=None,cutoff=0.1)"
   ]
  },
  {
   "cell_type": "markdown",
   "id": "09817ab1",
   "metadata": {},
   "source": [
    "The initialization parameters correspond to:\n",
    "\n",
    "- `i_sp`: Initial concentration according to the order of occurrence sp\n",
    "- `rt`: Kinetic constants as a function of the reaction partitioning in the stoichiometric matrix.\n",
    "- `cutoff`: Is the concentration value when species are considered to not be present\n",
    "\n",
    "If this inputs are not given (`None` values), they are inizialized by a uniform distribution in the interval [0,1].The dynamic model is inherited from the `roadruner` library, a python library for dynamic stability analysis in sbml models. "
   ]
  },
  {
   "cell_type": "markdown",
   "id": "0b486a27",
   "metadata": {},
   "source": [
    "The model can also be initialized from two text files using the `setMakModelFromFile()` function. The `SpConFname` argument corresponds to the file containing initial concentrations of the species, while the `KConstFname` argument corresponds to the name of the file containing the kinetic constants. The `cutoff` argument is inherited from the `setMakModel()` function. If the `SpConFname` or/and `KConstFname` argument is not given (`None` value), it randomly initializes the initial conditions according to a uniform distribution between zero and one."
   ]
  },
  {
   "cell_type": "code",
   "execution_count": null,
   "id": "af0ccacf",
   "metadata": {},
   "outputs": [],
   "source": [
    "RN.setMakModelFromFile(SpConFileNameStr=None ,KConstFileNameStr=None ,cutoff=0.1)"
   ]
  },
  {
   "cell_type": "markdown",
   "id": "a75be7a1",
   "metadata": {},
   "source": [
    "The `saveInitCondToText()` function can be used to save the initial species concentration variables as well as the kinetic constants of the model to a file so that they can be extracted for future use. Its arguments are `SpConFilename` and `KConstFilename` which correspond to the filenames of the concentrations and kinetic constants respectively. If these arguments are not given to the function (Noe values) it creates these by default as the network filename plus a pseudonym describing the file type i.e.:\n",
    "- `KConstFilename` =\"Network name+\"KConst.txt\"\n",
    "- `SpConFilename`=\"Network name\"+\"SpCon.txt\""
   ]
  },
  {
   "cell_type": "code",
   "execution_count": null,
   "id": "76e4ba4c",
   "metadata": {},
   "outputs": [],
   "source": [
    "RN.saveToText(\"../networks/RandGen.txt\")\n",
    "RN.saveInitCondToText(SpConFileNameStr=None,KConstFileNameStr=None)"
   ]
  },
  {
   "cell_type": "markdown",
   "id": "5cb3b5c8",
   "metadata": {},
   "source": [
    "After inizializing the model , the model then can be simulate by the folowing function:"
   ]
  },
  {
   "cell_type": "code",
   "execution_count": null,
   "id": "4bfde3f8",
   "metadata": {},
   "outputs": [],
   "source": [
    "RN.runMakModel(ti=0,tf=50,steps=100,cutoff=0.1)"
   ]
  },
  {
   "cell_type": "markdown",
   "id": "f5592c3f",
   "metadata": {},
   "source": [
    "This function receives as input the initial time `ti`, the final time `tf`, and the number of `steps` in the simulation. The variable `cutoff` corresponds to the concentration of species in which they are considered as inexistent, i.e. zero.The function generates member objects describing the concentrations (`SpConDf`) of the species, the rates of the reactions (`RpRateDf`). "
   ]
  },
  {
   "cell_type": "code",
   "execution_count": null,
   "id": "cb6bcdc3",
   "metadata": {},
   "outputs": [],
   "source": [
    "RN.SpConDf"
   ]
  },
  {
   "cell_type": "code",
   "execution_count": null,
   "id": "c65ea7d0",
   "metadata": {},
   "outputs": [],
   "source": [
    "RN.RpRateDf"
   ]
  },
  {
   "cell_type": "markdown",
   "id": "5e70fd29",
   "metadata": {},
   "source": [
    "Abstractions can be obtained from by use of the `getAbstDf()` function. It returns a dataframe of different types of abstractions, considering if there are changes or not en echa case. The function are recives as input a `cutoff`, if in not given (`cutoff=None`) it will be initialized using the cutoff of the simulation model. The type of abastraction can be defined by the `abst_type` string variables in consideratrion of `cutoff`:\n",
    "- `non_null` Species over the `cutoff`\n",
    "- `close_abst` Closure of species over the `cutoff`\n",
    "- `active_species` Active species (Considers reactant over the `cutoff` and triggerable productos)\n",
    "- `active_reaction` Active reaction releted to the active species"
   ]
  },
  {
   "cell_type": "code",
   "execution_count": null,
   "id": "aa8bb173",
   "metadata": {},
   "outputs": [],
   "source": [
    "RN.getAbstracDf(abst_type=\"non_null\", cutoff=None)"
   ]
  },
  {
   "cell_type": "code",
   "execution_count": null,
   "id": "8e454c54",
   "metadata": {},
   "outputs": [],
   "source": [
    "RN.getAbstracDf(abst_type=\"close_abst\", cutoff=None)"
   ]
  },
  {
   "cell_type": "code",
   "execution_count": null,
   "id": "e99912f6",
   "metadata": {},
   "outputs": [],
   "source": [
    "RN.getAbstracDf(abst_type=\"active_species\", cutoff=None)"
   ]
  },
  {
   "cell_type": "code",
   "execution_count": null,
   "id": "f2d5b41d",
   "metadata": {},
   "outputs": [],
   "source": [
    "RN.getAbstracDf(abst_type=\"active_reactions\", cutoff=None)"
   ]
  },
  {
   "cell_type": "markdown",
   "id": "e93d6a98",
   "metadata": {},
   "source": [
    "Also the complexity of an abstraction `dataframe` can be obtained through the use of the `getComplexityArray()` function. This function returns a `array` with the complexity of each row of the `dataframe` corresponding to the abstraction. It takes as arguments `abst_type`, which can be `\"species\"` or `\"reactions\"`, and `elem_type`, which can be `\"basics\"` or `\"generators\"`. For this function to run correctly it is necessary to run the `getGenerators()` function first."
   ]
  },
  {
   "cell_type": "code",
   "execution_count": null,
   "id": "dd0331d1",
   "metadata": {},
   "outputs": [],
   "source": [
    "active_sp=RN.getAbstracDf(abst_type=\"active_species\", cutoff=None)\n",
    "RN.setGenerators()\n",
    "print(RN.getComplexityArray(active_sp,abst_type=\"species\",elem_type=\"basics\"))"
   ]
  },
  {
   "cell_type": "markdown",
   "id": "f4246107",
   "metadata": {},
   "source": [
    "All the above mentioned variables correspond to pandas dataframes, therefore they are easily plotted by means of the plot function."
   ]
  },
  {
   "cell_type": "code",
   "execution_count": null,
   "id": "ee4f8006",
   "metadata": {},
   "outputs": [],
   "source": [
    "RN.SpConDf.plot()\n",
    "RN.RpRateDf.plot()"
   ]
  },
  {
   "cell_type": "markdown",
   "id": "02dacc79",
   "metadata": {},
   "source": [
    "Concentrations and rates can be changed using the `setMakParam()` function. Inputs are transitive from the `setMakModel()` function. The difference here is that the final values are changed, i.e. at the times left in the simulation. Thus the simulation can be continued from the previous point where it was left off, i.e. `tf`. Now if the variable init is `True`, the model returns to the initial state, i.e. it starts from `ti`."
   ]
  },
  {
   "cell_type": "code",
   "execution_count": null,
   "id": "61d9c061",
   "metadata": {},
   "outputs": [],
   "source": [
    "i_sp=np.random.uniform(size=RN.MrDf.shape[0]) #generation of random species concentration from a uniform distribution\n",
    "rt=np.random.uniform(size=RN.MrDf.shape[1]) #generation of random kinetic costants concentration from a uniform distribution\n",
    "RN.setMakParam(i_sp=i_sp,rt=rt,init=False) # changing the paraeters of the model\n",
    "RN.runMakModel(50,100,100) # runing the model from the last simulating point\n",
    "RN.SpConDf.plot()\n",
    "RN.RpRateDf.plot()"
   ]
  },
  {
   "cell_type": "markdown",
   "id": "fa2948ca",
   "metadata": {},
   "source": [
    "Analogously to the initialization of models by means of the function setMakModelFromFile(), the function setMakParamFromFile() allows the change of parameters from files. The arguments correspond to the files containing the kinetic constants (KConstFname) and initial species concentrations (SpConFname).  "
   ]
  },
  {
   "cell_type": "code",
   "execution_count": null,
   "id": "3ad67795",
   "metadata": {},
   "outputs": [],
   "source": [
    "SpConFileNameStr=RN.SpConFileNameStr\n",
    "print(\"Species initial concentration file: \",SpConFileNameStr)\n",
    "KConstFileNameStr=RN.KConstFileNameStr\n",
    "print(\"Kinetics constans file: \",KConstFileNameStr)\n",
    "RN.setMakParamFromFile(SpConFileNameStr, KConstFileNameStr, init=True)"
   ]
  },
  {
   "cell_type": "markdown",
   "id": "9ed29c8b",
   "metadata": {},
   "source": [
    "The library contains a set of perturbation functions that act on `np.array` vectors. So they can be used in the imputs of `setMakParam()` function and keep track of a random walk in time. There are two perturbation functions, `getPertActivation()` and `getStatePert()`. The first one generates the activation or deactivation of components of the vector whose values are zeros, these can be understood as a structural perturbation, since in both cases reactions as species generate the appearance of interactions. The second function corresponds to a state perturbation for the case of species and to a process perturbation for the case of a vector of kinetic constants. The `getPertActivation()` function consists of the following input parameters:\n",
    "\n",
    "- `v`: changing values from 0 to 1 or from >0 to 0 \n",
    "- `mask`: which of the species will be changed (defaults to all components) \n",
    "- `n` total active components required (defaults is the number of `mask` elements), up to `p` active components to be preserved (defaults to all active components)\n",
    "\n",
    "The function returns perturbed vector. \n",
    "\n",
    "While the function `getStatePert()`, receives as input:\n",
    "- `v`: vector perturbed \n",
    "- `eplison`: size of the perturbation respect norm of v \n",
    "- `mask`: which of the species will be changed (defaults to all components) \n",
    "\n",
    "It also returns the perturbed vector."
   ]
  },
  {
   "cell_type": "code",
   "execution_count": null,
   "id": "9596234f",
   "metadata": {},
   "outputs": [],
   "source": [
    "v=np.random.choice([0, 1], size=10)\n",
    "print(\"original vector: \",v)\n",
    "struc_pert=RN.getPertActivation(v=v,mask=None,n=None,p=None)\n",
    "print(\"strucutral perturbed vector: \",struc_pert)\n",
    "st_pert=RN.getStatePert(v=v,mask=None,epsilon=0.1)\n",
    "print(\"state perturbed vector :\",st_pert)"
   ]
  },
  {
   "cell_type": "markdown",
   "id": "f8a8a34e",
   "metadata": {},
   "source": [
    "Finally there is a function that generates random walks (`setRw`). Once a reaction network is inizialized, this function generates a repetition of random walks consisting of simulations that end at a given convergence time. At the end of these, the existing concentrations are perturbed by a species activation function followed by a species state perturbation function. The parameters of this function correspond to:\n",
    "\n",
    "- `w` are the the random walks to be created or completed (by default 1:10)\n",
    "- `l` number of perturbation steps (by default the 10)\n",
    "- `n` the simulation step for the convergence time (by default 5000)\n",
    "- `cutoff` is the concentration threshold for a species to be reactive\n",
    "- `trys` are the number of perturbations done if the integrator have covergence problems.\n",
    "- `sim_save` if the simulation (con, rate, abst, a_sp and a_r) of each simulation is stored\n",
    "- `fname` is the json filename where the results are stored\n",
    "\n",
    "The result is available in `RwDict` dictionary member of the class, under de key `mak`. Where each element represent a random walk. The variables stored in each element correspond to:\n",
    "\n",
    "- `t` the time elapsed in the dynamic simulation is stored in the random walk\n",
    "- `f` a dataframe of the flow vectors in the random walk \n",
    "- `p` a dataframe the perturbed states before the simulation starts in the random walk\n",
    "- `s` a dataframe of the states before the perturbation \n",
    "- `c` a dataframe of the convergent states in the random walk\n",
    "- `a` a dataframe of the abstractions of the convergent state (closure)\n",
    "- `ac` a dataframe of the active species of the convergent state (closure)\n",
    "- `u` a dataframe of the active species in the random walk (used species)\n",
    "- `ca` a vector of the complexity of abstractions of the convergent state (closure)\n",
    "- `cac` a vector of the complexity of the active species of the convergent state (closure)\n",
    "- `cu` a vector of the complexity of  the active species in the random walk (used species)\n",
    "- `sim` a list of dictonary of dataframe whit the simulation data (con, rate), each element of the list correspond to a simulated step of the walk.\n"
   ]
  },
  {
   "cell_type": "code",
   "execution_count": null,
   "id": "bd665b8c",
   "metadata": {},
   "outputs": [],
   "source": [
    "RN.setMakRw(w=range(2),l=10,cutoff=.1,n=500,trys=10,sim_save=True,fname=\"mak_rand_walk.json\")"
   ]
  },
  {
   "cell_type": "code",
   "execution_count": null,
   "id": "439efdee",
   "metadata": {},
   "outputs": [],
   "source": [
    "RN.RwDict['mak'][0]['t'] # 0 is the index of the first random walk"
   ]
  },
  {
   "cell_type": "code",
   "execution_count": null,
   "id": "856bd5a9",
   "metadata": {},
   "outputs": [],
   "source": [
    "RN.RwDict['mak'][0]['ca'] # 0 is the index of the first random walk"
   ]
  },
  {
   "cell_type": "code",
   "execution_count": null,
   "id": "8a2c3d6f",
   "metadata": {},
   "outputs": [],
   "source": [
    "RN.RwDict['mak'][0]['cac'] # 0 is the index of the first random walk"
   ]
  },
  {
   "cell_type": "code",
   "execution_count": null,
   "id": "df073e78",
   "metadata": {},
   "outputs": [],
   "source": [
    "RN.RwDict['mak'][0]['cu'] # 0 is the index of the first random walk"
   ]
  },
  {
   "cell_type": "code",
   "execution_count": null,
   "id": "46e7a411",
   "metadata": {},
   "outputs": [],
   "source": [
    "RN.RwDict['mak'][0]['f']"
   ]
  },
  {
   "cell_type": "code",
   "execution_count": null,
   "id": "1590fa1f",
   "metadata": {},
   "outputs": [],
   "source": [
    "RN.RwDict['mak'][0]['p']"
   ]
  },
  {
   "cell_type": "code",
   "execution_count": null,
   "id": "31761ddd",
   "metadata": {},
   "outputs": [],
   "source": [
    "RN.RwDict['mak'][0]['s']"
   ]
  },
  {
   "cell_type": "code",
   "execution_count": null,
   "id": "132bd75f",
   "metadata": {},
   "outputs": [],
   "source": [
    "RN.RwDict['mak'][0]['c']"
   ]
  },
  {
   "cell_type": "code",
   "execution_count": null,
   "id": "ee528b1a",
   "metadata": {},
   "outputs": [],
   "source": [
    "RN.RwDict['mak'][0]['a']"
   ]
  },
  {
   "cell_type": "code",
   "execution_count": null,
   "id": "d710b6a4",
   "metadata": {},
   "outputs": [],
   "source": [
    "RN.RwDict['mak'][0]['ac']"
   ]
  },
  {
   "cell_type": "code",
   "execution_count": null,
   "id": "0bd9028c",
   "metadata": {},
   "outputs": [],
   "source": [
    "RN.RwDict['mak'][0]['u']"
   ]
  },
  {
   "cell_type": "code",
   "execution_count": null,
   "id": "abbee275",
   "metadata": {},
   "outputs": [],
   "source": [
    "RN.RwDict['mak'][0]['sim'][2]['con'].plot()"
   ]
  },
  {
   "cell_type": "markdown",
   "id": "f6bf5baf",
   "metadata": {},
   "source": [
    "There is also a simple random walk function (`setSimpleRw()`). This function, instead of calculating dynamics for each perturbation, only calculates the organizations directly below and chooses one of them at random as a convergent abstraction. Beforehand, it is necessary to calculate the synergic structure, since it allows us to know all the closed reactive ones, such as the organizations of the network."
   ]
  },
  {
   "cell_type": "code",
   "execution_count": null,
   "id": "4462a90d",
   "metadata": {},
   "outputs": [],
   "source": [
    "# Calculation of the generators\n",
    "RN.setGenerators()\n",
    "# Calculation of the Closed Reactive Strucutre\n",
    "RN.setSynStr()"
   ]
  },
  {
   "cell_type": "markdown",
   "id": "3fa35a66",
   "metadata": {},
   "source": [
    "Then we can run the Simple Random Walk, the function recives as argument the `w` keys of the dictionary of repetitions of the random walk, `l` the number of steps of the random walk, `d` is the delta value of active species increases with each pertubation in the random walk steps. `nmin` the minimal number of active species for the perturbation, and `fname` the name of the `json` file where the random walk is saved."
   ]
  },
  {
   "cell_type": "code",
   "execution_count": null,
   "id": "34186c6b",
   "metadata": {},
   "outputs": [],
   "source": [
    "RN.setRwSimple(w=range(2),l=10,d=1,nmin=1,fname=\"simple_rand_walk.json\")"
   ]
  },
  {
   "cell_type": "markdown",
   "id": "47d48e45",
   "metadata": {},
   "source": [
    "As before we can obtain the results of the simple random walk, in the class dictionary `RwDict` under the key `simple`. The variables of the dictonary correspond to:\n",
    "\n",
    "- `p` a dataframe the perturbed abstraction before the convergent state\n",
    "- `c` a dataframe of the convergent abstraction in the random walk\n",
    "- `cp` a vector of the complexity of the pertubated abstraction\n",
    "- `ca` a vector of the complexity of convergent abstractions"
   ]
  },
  {
   "cell_type": "code",
   "execution_count": null,
   "id": "9f517ae1",
   "metadata": {},
   "outputs": [],
   "source": [
    "RN.RwDict['simple'][0]['p']"
   ]
  },
  {
   "cell_type": "code",
   "execution_count": null,
   "id": "21d0e94a",
   "metadata": {},
   "outputs": [],
   "source": [
    "RN.RwDict['simple'][0]['c']"
   ]
  },
  {
   "cell_type": "code",
   "execution_count": null,
   "id": "0140dcf5",
   "metadata": {},
   "outputs": [],
   "source": [
    "RN.RwDict['simple'][0]['cc']"
   ]
  },
  {
   "cell_type": "code",
   "execution_count": null,
   "id": "20b9e91b",
   "metadata": {
    "tags": []
   },
   "outputs": [],
   "source": [
    "RN.RwDict['simple'][0]['cp']"
   ]
  }
 ],
 "metadata": {
  "kernelspec": {
   "display_name": "Python 3 (ipykernel)",
   "language": "python",
   "name": "python3"
  },
  "language_info": {
   "codemirror_mode": {
    "name": "ipython",
    "version": 3
   },
   "file_extension": ".py",
   "mimetype": "text/x-python",
   "name": "python",
   "nbconvert_exporter": "python",
   "pygments_lexer": "ipython3",
   "version": "3.11.3"
  }
 },
 "nbformat": 4,
 "nbformat_minor": 5
}
