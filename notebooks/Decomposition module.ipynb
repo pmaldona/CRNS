{
 "cells": [
  {
   "cell_type": "code",
   "execution_count": 1,
   "id": "b0c8bd06",
   "metadata": {},
   "outputs": [],
   "source": [
    "# import sys\n",
    "# !{sys.executable} -m pip install ../. --quiet --user #installation of library in local enviorment\n",
    "from pyRN import pyRN\n",
    "from bitarray import bitarray as bt\n",
    "from bitarray import frozenbitarray as fbt\n",
    "import numpy as np"
   ]
  },
  {
   "cell_type": "code",
   "execution_count": 2,
   "id": "2b635232",
   "metadata": {},
   "outputs": [
    {
     "data": {
      "text/plain": [
       "array(['s1', 's2', 's3', 'x1', 'x2'], dtype=object)"
      ]
     },
     "execution_count": 2,
     "metadata": {},
     "output_type": "execute_result"
    }
   ],
   "source": [
    "file=\"../networks/op_test_net.txt\"\n",
    "RN=pyRN.setFromText(file)\n",
    "RN.SpIdStrArray"
   ]
  },
  {
   "cell_type": "markdown",
   "id": "5e164c1a",
   "metadata": {},
   "source": [
    "Once the libraries and the network are loaded, we can obtain the overproducible species of a network by means of the function `getOpSp()`, the latter receives as arguments the set of present species `sp_set` and the present reaction set `pr`. It considers the reactions triggered by such present species intersected by the considered reaction `pr`. If `pr` is given as `None` all reaction will be considered feasible. Here is how it is used:"
   ]
  },
  {
   "cell_type": "code",
   "execution_count": 3,
   "id": "1e23ca7f",
   "metadata": {},
   "outputs": [
    {
     "name": "stdout",
     "output_type": "stream",
     "text": [
      "The whole reaction network is:\n",
      "r0:   s1 => s2 \n",
      "r1:   s2 + x1 => s1 \n",
      "r2:   x1 => 2s1 + 2x1 \n",
      "r3:   x1 => x2 \n",
      "r4:   x2 => s3 \n",
      "r5:   2s3 => x2 \n",
      "In this reaction network, the species ['s1' 's2' 's3' 'x1' 'x2'] are overproducible\n",
      "By selecting the species ['s1' 's2' 'x1']  we reduce the reaction network to the triggerable reactions:\n",
      "r0:   s1 => s2 \n",
      "r1:   s2 + x1 => s1 \n",
      "r2:   x1 => 2s1 + 2x1 \n",
      "r3:   x1 => x2 \n",
      "So now the overproducible species are: ['s1' 's2' 'x1']\n",
      "We can also reduce the set to reaction only considering [1 2] to occur:\n",
      "r1:   s2 + x1 => s1 \n",
      "r2:   x1 => 2s1 + 2x1 \n",
      "by this, ['s1' 'x1'] are overproducible\n"
     ]
    }
   ],
   "source": [
    "print(\"The whole reaction network is:\")\n",
    "RN.printRp()\n",
    "\n",
    "# Here we obtain the overprducible species of the network\n",
    "opsp=RN.getallOpSpBt(sp_set=RN.SpIdStrArray,pr=None)\n",
    "print(\"In this reaction network, the species\",RN.SpIdStrArray[opsp.search(1)],\"are overproducible\")\n",
    "\n",
    "sp=RN.SpIdStrArray[[0,1,3]]\n",
    "print(\"By selecting the species\",sp,\" we reduce the reaction network to the triggerable reactions:\")\n",
    "RN.printRp(RN.getTriggerableRpBtFromSp(sp))\n",
    "\n",
    "opsp=RN.getallOpSpBt(sp_set=RN.SpIdStrArray[[0,1,3]],pr=None)\n",
    "print(\"So now the overproducible species are:\",RN.SpIdStrArray[opsp.search(1)])\n",
    "\n",
    "pr=np.array([1,2])\n",
    "print(\"We can also reduce the set to reaction only considering\", pr, \"to occur:\")\n",
    "RN.printRp(pr)\n",
    "opsp=RN.getallOpSpBt(sp_set=RN.SpIdStrArray[[0,1,3]],pr=pr)\n",
    "print(\"by this,\",RN.SpIdStrArray[opsp.search(1)],\"are overproducible\")\n"
   ]
  },
  {
   "cell_type": "markdown",
   "id": "9267fc57",
   "metadata": {},
   "source": [
    "Given a set of species `sp_set` and a set of feasible reactions `pr`, such are not an organization. It is possible to obtain a set of reactions added as inflow of the system *i.e.* $\\emptyset \\to s$, such that the new system (with added reactions) become an organization. Thus the function `getSpNeededToOrg` corresponds to a vector of indices of the vector `RN.SpIdStrArray`, species that must be added as inflow. The second component of the tuple, corresponds to a vector of indexes of reactions that are active. "
   ]
  },
  {
   "cell_type": "code",
   "execution_count": 4,
   "id": "ec5afef4",
   "metadata": {},
   "outputs": [
    {
     "name": "stdout",
     "output_type": "stream",
     "text": [
      "The set of species: ['s1' 's2'] is self-maintained? False\n",
      "We need the specie(s): ['s1'] , added as inflow reaction(s) to become an organization.\n",
      "whose reaction network corresponds to:\n",
      "r0:   s1 => s2 \n"
     ]
    }
   ],
   "source": [
    "sp=bt(len(RN.SpIdStrArray))\n",
    "sp.setall(0)\n",
    "sp[0:2]=1\n",
    "is_sm=RN.isSmFromSp(sp)\n",
    "\n",
    "print(\"The set of species:\",RN.SpIdStrArray[sp.search(1)],\"is self-maintained?\",is_sm)\n",
    "result=RN.getSpNeededToOrg(sp_set=sp,pr=None)\n",
    "print(\"We need the specie(s):\",RN.SpIdStrArray[result[0]],\", added as inflow reaction(s) to become an organization.\")\n",
    "print(\"whose reaction network corresponds to:\")\n",
    "RN.printRp(result[1])"
   ]
  },
  {
   "cell_type": "markdown",
   "id": "c150ffe4-14ed-40e2-8141-c837576a61c8",
   "metadata": {},
   "source": [
    "We can repeat this but selecting which reaction cab be activiating via the `pr`."
   ]
  },
  {
   "cell_type": "code",
   "execution_count": 5,
   "id": "2729546a-2ef7-4889-90c0-42b24429a6b7",
   "metadata": {},
   "outputs": [
    {
     "name": "stdout",
     "output_type": "stream",
     "text": [
      "The set of species: ['s3' 'x1' 'x2'] is self-maintained? True\n",
      "We need the specie(s): ['s2'] , added as inflow reaction(s) to become an organization.\n",
      "whose reaction network corresponds to:\n",
      "r3:   x1 => x2 \n",
      "r4:   x2 => s3 \n",
      "r5:   2s3 => x2 \n"
     ]
    }
   ],
   "source": [
    "sp=bt(len(RN.SpIdStrArray))\n",
    "sp.setall(0)\n",
    "sp[2:5]=1\n",
    "is_sm=RN.isSmFromSp(sp)\n",
    "pr=[3,4,5]\n",
    "print(\"The set of species:\",RN.SpIdStrArray[sp.search(1)],\"is self-maintained?\",is_sm)\n",
    "result=RN.getSpNeededToOrg(sp_set=sp,pr=pr)\n",
    "print(\"We need the specie(s):\",RN.SpIdStrArray[result[0]],\", added as inflow reaction(s) to become an organization.\")\n",
    "print(\"whose reaction network corresponds to:\")\n",
    "RN.printRp(result[1])"
   ]
  },
  {
   "cell_type": "markdown",
   "id": "b0593a3c-ca3a-47c6-b302-fc71db150c2e",
   "metadata": {},
   "source": [
    "If we consist of an organization and its set of overproducible species, we can ask if any subset of these can be overproduced. It is worth noting, that not always some subset of overproducible(s), can be overproduced. The function `veriOpSp` do this verification operation. It receives as argument the species of the `sp_set` organization, `op_set` overproducible species to be verified, the present species `pr` and finally a bool value  `force_org` . This last variable imposes that all the `pr` reactions have their component of the process vector greater than zero. Thus the overproduction is conditional on sp_set being maintained as an organization.   "
   ]
  },
  {
   "cell_type": "code",
   "execution_count": 6,
   "id": "745bb572-41e7-4ff1-8035-7d59e27c3dd4",
   "metadata": {
    "tags": []
   },
   "outputs": [
    {
     "name": "stdout",
     "output_type": "stream",
     "text": [
      "Are the species ['s2' 's3'] overproducible in the organization ['s1' 's2' 's3' 'x1' 'x2'] ?\n",
      "True ,by means of the process: [2. 0. 1. 1. 1. 0.]\n"
     ]
    }
   ],
   "source": [
    "sp=bt(len(RN.SpIdStrArray))\n",
    "sp.setall(0)\n",
    "sp[1:3]=1 #selecting the species we want to be overpoduced\n",
    "\n",
    "print(\"Are the species\",RN.SpIdStrArray[sp.search(1)],\"overproducible in the organization\",RN.SpIdStrArray,\"?\")\n",
    "verification, process = RN.veriOpSpBt(sp_set=RN.SpIdStrArray,opsp_set=sp,pr=None,force_org=False)\n",
    "print(verification,\",by means of the process:\",process)"
   ]
  },
  {
   "cell_type": "markdown",
   "id": "ebc86679-bfab-4366-96a4-c981648b23f9",
   "metadata": {},
   "source": [
    "We note that the resulting process vector does not trigger all reactions, thus such a process does not guarantee that the analyzed set is an organization. However, the resulting process output will not consume any species. by using the option `force_org=True`, allows us to find a process vector that has all its components greater than zero (all active)."
   ]
  },
  {
   "cell_type": "code",
   "execution_count": 7,
   "id": "97947b39-56f8-49f5-b2fe-3539197600a5",
   "metadata": {
    "tags": []
   },
   "outputs": [
    {
     "name": "stdout",
     "output_type": "stream",
     "text": [
      "Are the species ['s2' 's3'] overproducible in the organization ['s1' 's2' 's3' 'x1' 'x2'] ?\n",
      "True ,by means of the process: [7. 1. 3. 2. 3. 1.]\n"
     ]
    }
   ],
   "source": [
    "sp=bt(len(RN.SpIdStrArray))\n",
    "sp.setall(0)\n",
    "sp[1:3]=1 #selecting the species we want to be overpoduced\n",
    "\n",
    "print(\"Are the species\",RN.SpIdStrArray[sp.search(1)],\"overproducible in the organization\",RN.SpIdStrArray,\"?\")\n",
    "verification, process = RN.veriOpSpBt(sp_set=RN.SpIdStrArray,opsp_set=sp,pr=None,force_org=True) #We change the force_org to True\n",
    "print(verification,\",by means of the process:\",process)"
   ]
  },
  {
   "cell_type": "markdown",
   "id": "6cb4596b-6f89-4e77-9f5d-b95547e66a43",
   "metadata": {},
   "source": [
    "It should be noted that there are subsets of overproduced species, which may not necessarily be overproduced:"
   ]
  },
  {
   "cell_type": "code",
   "execution_count": 8,
   "id": "95da5b4c-9bff-4130-b41a-9de3824ecf64",
   "metadata": {
    "tags": []
   },
   "outputs": [
    {
     "name": "stdout",
     "output_type": "stream",
     "text": [
      "Is the specie ['s3'] overproducible in the organization ['s1' 's2' 's3' 'x1' 'x2'] ?\n",
      "False\n"
     ]
    }
   ],
   "source": [
    "sp=bt(len(RN.SpIdStrArray))\n",
    "sp.setall(0)\n",
    "sp[2]=1 #selecting the species we want to be overpoduced\n",
    "\n",
    "print(\"Is the specie\",RN.SpIdStrArray[sp.search(1)],\"overproducible in the organization\",RN.SpIdStrArray,\"?\")\n",
    "verification, process = RN.veriOpSpBt(sp_set=RN.SpIdStrArray,opsp_set=sp,pr=None,force_org=False)\n",
    "print(verification)"
   ]
  },
  {
   "cell_type": "markdown",
   "id": "39c89d13-c631-4950-a4b6-fedf2e353f60",
   "metadata": {},
   "source": [
    "Or we can consider only a subset of reactions by using the `pr`"
   ]
  },
  {
   "cell_type": "code",
   "execution_count": 9,
   "id": "88f404b9-3343-4c03-9868-975c48c0abda",
   "metadata": {
    "tags": []
   },
   "outputs": [
    {
     "name": "stdout",
     "output_type": "stream",
     "text": [
      "Are the species ['s3' 'x1' 'x2'] overproducible in the orgnaization ['s1' 's2' 's3' 'x1' 'x2'] activating only the following reactions?\n",
      "r3:   x1 => x2 \n",
      "r4:   x2 => s3 \n",
      "r5:   2s3 => x2 \n",
      "False\n"
     ]
    }
   ],
   "source": [
    "sp=bt(len(RN.SpIdStrArray))\n",
    "sp.setall(0)\n",
    "sp[2:5]=1 # selecting the species we want to be overpoduced\n",
    "pr=[3,4,5] # also subsetting a reactions\n",
    "\n",
    "print(\"Are the species\",RN.SpIdStrArray[sp.search(1)],\"overproducible in the orgnaization\",RN.SpIdStrArray,\"activating only the following reactions?\")\n",
    "RN.printRp(pr)\n",
    "verification, process = RN.veriOpSpBt(sp_set=RN.SpIdStrArray,opsp_set=sp,pr=pr,force_org=False)\n",
    "print(verification)"
   ]
  },
  {
   "cell_type": "markdown",
   "id": "606658c4-a551-4252-bdb6-a8d2c192069f",
   "metadata": {},
   "source": [
    "Once in possession of the process vector that overlays a subset of the organization in question. We can identify the dynamic roles that have models (subsets) operating under this process. The decomposition allows this identification. Four types of modules with distinct roles are identified the organization in four types of roles:\n",
    "\n",
    "- F, the set of overproduced\n",
    "- E, the set of catalysts\n",
    "- C_i, the collection of fragile cycles.\n",
    "- N_r, the set of non-reactive reactions.\n",
    "\n",
    "The fragile cycles correspond to modules that are self-maintained within the network. We will not go into detail, but we can mention that they are dynamically directly connected to catalysts and spbreproduced, and not to each other. Depending on the species they produce, they can be critical in the organizational structure if disturbed. \n",
    "\n",
    "By use of function `getDcomArray` we can obtain an array of the decomposition for a given organization an process vector. It recives as input the species of the set (`sp_set`), the set of the overproduced species (`opsp_set`) and the present species set `pr`. It returns an array whose components indicate the  function performed by each species, correlative positions to sp species  vector. If the value is `-1` it corresponds to an overproducible species, if it is `-2` to a catalytic species. `-3`if its a non-reactive species and if it is 0 the species is not present. The integer values indicate ot which fragile cycle belogns."
   ]
  },
  {
   "cell_type": "code",
   "execution_count": 10,
   "id": "0e1e3536-8a76-4665-85f8-d07e7d7753c0",
   "metadata": {
    "tags": []
   },
   "outputs": [
    {
     "name": "stdout",
     "output_type": "stream",
     "text": [
      "Are the species ['s2'] overproducible in the organization ['s1' 's2' 's3' 'x1' 'x2'] ?\n",
      "True ,by means of the process: [5. 1. 2. 1. 2. 1.]\n",
      "r0:   s1 (5.0) => s2 \n",
      "r1:   s2 + x1 (1.0) => s1 \n",
      "r2:   x1 (2.0) => 2s1 + 2x1 \n",
      "r3:   x1 (1.0) => x2 \n",
      "r4:   x2 (2.0) => s3 \n",
      "r5:   2s3 (1.0) => x2 \n",
      "the latter process and orgaization result in the decomposition:\n",
      "[ 1. -1.  1.  1.  1.]\n"
     ]
    }
   ],
   "source": [
    "sp=bt(len(RN.SpIdStrArray))\n",
    "sp.setall(0)\n",
    "sp[1]=1 #selecting the species we want to be overpoduced\n",
    "\n",
    "print(\"Are the species\",RN.SpIdStrArray[sp.search(1)],\"overproducible in the organization\",RN.SpIdStrArray,\"?\")\n",
    "verification, process = RN.veriOpSpBt(sp_set=RN.SpIdStrArray,opsp_set=sp,pr=None,force_org=True)\n",
    "print(verification,\",by means of the process:\",process)\n",
    "RN.printRpFromProcess(np.where(process>=0)[0],process)\n",
    "print(\"the latter process and orgaization result in the decomposition:\")\n",
    "decom=RN.getDcomArray(sp_set=RN.SpIdStrArray,opsp_set=sp,pr=np.where(process)[0])\n",
    "print(decom)"
   ]
  },
  {
   "cell_type": "code",
   "execution_count": 11,
   "id": "8a59f668-d903-429c-aa4b-d5606eccd00d",
   "metadata": {
    "tags": []
   },
   "outputs": [
    {
     "name": "stdout",
     "output_type": "stream",
     "text": [
      "Are the species ['s2'] overproducible in the organization ['s1' 's2' 's3' 'x1' 'x2'] ?\n",
      "True ,by means of the process: [1.5 0.5 0.5 0.  0.  0. ]\n",
      "r0:   s1 (1.5) => s2 \n",
      "r1:   s2 + x1 (0.5) => s1 \n",
      "r2:   x1 (0.5) => 2s1 + 2x1 \n",
      "r3:   x1 (0.0) => x2 \n",
      "r4:   x2 (0.0) => s3 \n",
      "r5:   2s3 (0.0) => x2 \n",
      "the latter process and orgaization result in the decomposition:\n",
      "[ 1. -1. -3.  1. -3.]\n"
     ]
    }
   ],
   "source": [
    "sp=bt(len(RN.SpIdStrArray))\n",
    "sp.setall(0)\n",
    "sp[1]=1 #selecting the species we want to be overpoduced\n",
    "\n",
    "print(\"Are the species\",RN.SpIdStrArray[sp.search(1)],\"overproducible in the organization\",RN.SpIdStrArray,\"?\")\n",
    "verification, process = RN.veriOpSpBt(sp_set=RN.SpIdStrArray,opsp_set=sp,pr=None,force_org=False)\n",
    "print(verification,\",by means of the process:\",process)\n",
    "RN.printRpFromProcess(np.where(process>=0)[0],process)\n",
    "print(\"the latter process and orgaization result in the decomposition:\")\n",
    "decom=RN.getDcomArray(sp_set=RN.SpIdStrArray,opsp_set=sp,pr=np.where(process)[0])\n",
    "print(decom)"
   ]
  },
  {
   "cell_type": "markdown",
   "id": "59b88c43-bd52-4f19-9e8a-c18c974334b1",
   "metadata": {},
   "source": [
    "We can appreciate that the decomposition is sensitive to the process vector. If we select a porcess vector were some componets are zero, it can result un non-reactive components (-3) of the decomposition. "
   ]
  },
  {
   "cell_type": "markdown",
   "id": "490d85b7",
   "metadata": {},
   "source": [
    "In consideration of the overproduced species, there is a collection whose elements are the smallest set of species that can be overproduced. This collection constitutes a basis given the additive property of the processes that overproduce these sets.\n",
    "The function `getOpBase` generates a list of this base, receiving as input the same parameters as the previous functions but not considering the overproduced species. It returns (`op_base`) a `networkx` directed graph, representing a Hasse diagram. Where each node represents an overproduced subset. The edges correspond to direct (lattice) contentions. Each node also has the following properties:\n",
    "\n",
    "- `level`: the number of overproduced species\n",
    "- `process`: related process for the especific overpduction  (relative components pr)\n",
    "- `decomposition`: decomposition obtained from the `getDecomArray `function."
   ]
  },
  {
   "cell_type": "code",
   "execution_count": 12,
   "id": "4d0eee56",
   "metadata": {},
   "outputs": [
    {
     "name": "stdout",
     "output_type": "stream",
     "text": [
      "The organization ['s1' 's2' 's3' 'x1' 'x2'] overproduce the species ['s1'] with level 1\n",
      "under the process [1. 1. 2. 1. 2. 1.] , resulting in the decomposition [-1.  1.  1.  1.  1.]\n",
      "The organization ['s1' 's2' 's3' 'x1' 'x2'] overproduce the species ['s2'] with level 1\n",
      "under the process [5. 1. 2. 1. 2. 1.] , resulting in the decomposition [ 1. -1.  1.  1.  1.]\n",
      "The organization ['s1' 's2' 's3' 'x1' 'x2'] overproduce the species ['s1' 's3'] with level 2\n",
      "under the process [1. 1. 3. 2. 3. 1.] , resulting in the decomposition [-1.  1. -1.  1.  1.]\n",
      "The organization ['s1' 's2' 's3' 'x1' 'x2'] overproduce the species ['s1' 'x1'] with level 2\n",
      "under the process [1. 1. 3. 1. 2. 1.] , resulting in the decomposition [-1.  1.  2. -1.  2.]\n",
      "The organization ['s1' 's2' 's3' 'x1' 'x2'] overproduce the species ['s1' 'x2'] with level 2\n",
      "under the process [1. 1. 3. 2. 2. 1.] , resulting in the decomposition [-1.  1.  2.  1. -1.]\n",
      "The organization ['s1' 's2' 's3' 'x1' 'x2'] overproduce the species ['s2' 's3'] with level 2\n",
      "under the process [7. 1. 3. 2. 3. 1.] , resulting in the decomposition [ 1. -1. -1.  1.  1.]\n",
      "The organization ['s1' 's2' 's3' 'x1' 'x2'] overproduce the species ['s2' 'x1'] with level 2\n",
      "under the process [7. 1. 3. 1. 2. 1.] , resulting in the decomposition [ 1. -1.  2. -1.  2.]\n",
      "The organization ['s1' 's2' 's3' 'x1' 'x2'] overproduce the species ['s2' 'x2'] with level 2\n",
      "under the process [7. 1. 3. 2. 2. 1.] , resulting in the decomposition [ 1. -1.  2.  1. -1.]\n"
     ]
    }
   ],
   "source": [
    "op_base=RN.genOpBase(sp_set=RN.SpIdStrArray,pr=None,force_org=True) #We generate the overprodiuced base\n",
    "for i in op_base.nodes(data=True):\n",
    "    print(\"The organization\",RN.SpIdStrArray,\"overproduce the species\",RN.SpIdStrArray[i[0].search(1)],\"with level\",i[1]['level'])\n",
    "    print(\"under the process\",i[1]['process'],\", resulting in the decomposition\",i[1]['decomposition'])"
   ]
  },
  {
   "cell_type": "markdown",
   "id": "e580fe0b-cb2d-46cd-ae50-a5e369d5f80e",
   "metadata": {},
   "source": [
    "It is worth noteing in the resulting collection of overproduced nodes, corresponds to a base. Therefore, all nodes whit same level have a non empty intersection between them. Also, the union of all nodes whit in a level, must present species different wiht the union of all nodes of lower levels."
   ]
  },
  {
   "cell_type": "markdown",
   "id": "77d2e1e5",
   "metadata": {},
   "source": [
    "Finally, given the additive possibility of the elements of the basal overproducible collection, it is possible to generate a hasse of them by means of the function `getOpHasseNx`.The input corresponds to a set of `sp_set` species which must be an organization, it also recives the argumento `force_org` as the latter functions. The output are the complemetario node made by the joint operation of `op_base`."
   ]
  },
  {
   "cell_type": "code",
   "execution_count": 13,
   "id": "c56ff966",
   "metadata": {},
   "outputs": [
    {
     "name": "stdout",
     "output_type": "stream",
     "text": [
      "The organization ['s1' 's2' 's3' 'x1' 'x2'] overproduce the species ['s1'] with level 1\n",
      "under the process [1. 1. 2. 1. 2. 1.] , resulting in the decomposition [-1.  1.  1.  1.  1.]\n",
      "The organization ['s1' 's2' 's3' 'x1' 'x2'] overproduce the species ['s2'] with level 1\n",
      "under the process [5. 1. 2. 1. 2. 1.] , resulting in the decomposition [ 1. -1.  1.  1.  1.]\n",
      "The organization ['s1' 's2' 's3' 'x1' 'x2'] overproduce the species ['s1' 's3'] with level 2\n",
      "under the process [1. 1. 3. 2. 3. 1.] , resulting in the decomposition [-1.  1. -1.  1.  1.]\n",
      "The organization ['s1' 's2' 's3' 'x1' 'x2'] overproduce the species ['s1' 'x1'] with level 2\n",
      "under the process [1. 1. 3. 1. 2. 1.] , resulting in the decomposition [-1.  1.  2. -1.  2.]\n",
      "The organization ['s1' 's2' 's3' 'x1' 'x2'] overproduce the species ['s1' 'x2'] with level 2\n",
      "under the process [1. 1. 3. 2. 2. 1.] , resulting in the decomposition [-1.  1.  2.  1. -1.]\n",
      "The organization ['s1' 's2' 's3' 'x1' 'x2'] overproduce the species ['s2' 's3'] with level 2\n",
      "under the process [7. 1. 3. 2. 3. 1.] , resulting in the decomposition [ 1. -1. -1.  1.  1.]\n",
      "The organization ['s1' 's2' 's3' 'x1' 'x2'] overproduce the species ['s2' 'x1'] with level 2\n",
      "under the process [7. 1. 3. 1. 2. 1.] , resulting in the decomposition [ 1. -1.  2. -1.  2.]\n",
      "The organization ['s1' 's2' 's3' 'x1' 'x2'] overproduce the species ['s2' 'x2'] with level 2\n",
      "under the process [7. 1. 3. 2. 2. 1.] , resulting in the decomposition [ 1. -1.  2.  1. -1.]\n",
      "The organization ['s1' 's2' 's3' 'x1' 'x2'] overproduce the species ['s1' 's2'] with level 2\n",
      "under the process [6. 2. 4. 2. 4. 2.] , resulting in the decomposition [-1. -1.  1.  1.  1.]\n",
      "The organization ['s1' 's2' 's3' 'x1' 'x2'] overproduce the species ['s1' 's2' 's3'] with level 3\n",
      "under the process [8. 2. 5. 3. 5. 2.] , resulting in the decomposition [-1. -1. -1.  1.  1.]\n",
      "The organization ['s1' 's2' 's3' 'x1' 'x2'] overproduce the species ['s1' 's2' 'x1'] with level 3\n",
      "under the process [8. 2. 5. 2. 4. 2.] , resulting in the decomposition [-1. -1.  1. -1.  1.]\n",
      "The organization ['s1' 's2' 's3' 'x1' 'x2'] overproduce the species ['s1' 's2' 'x2'] with level 3\n",
      "under the process [8. 2. 5. 3. 4. 2.] , resulting in the decomposition [-1. -1.  1.  2. -1.]\n",
      "The organization ['s1' 's2' 's3' 'x1' 'x2'] overproduce the species ['s1' 's3' 'x1'] with level 3\n",
      "under the process [2. 2. 6. 3. 5. 2.] , resulting in the decomposition [-1.  1. -1. -1.  2.]\n",
      "The organization ['s1' 's2' 's3' 'x1' 'x2'] overproduce the species ['s1' 's3' 'x2'] with level 3\n",
      "under the process [2. 2. 6. 4. 5. 2.] , resulting in the decomposition [-1.  1. -1.  1. -1.]\n",
      "The organization ['s1' 's2' 's3' 'x1' 'x2'] overproduce the species ['s1' 's2' 's3' 'x1'] with level 4\n",
      "under the process [8. 2. 6. 3. 5. 2.] , resulting in the decomposition [-1. -1. -1. -1.  1.]\n",
      "The organization ['s1' 's2' 's3' 'x1' 'x2'] overproduce the species ['s1' 's2' 's3' 'x2'] with level 4\n",
      "under the process [8. 2. 6. 4. 5. 2.] , resulting in the decomposition [-1. -1. -1.  1. -1.]\n",
      "The organization ['s1' 's2' 's3' 'x1' 'x2'] overproduce the species ['s1' 'x1' 'x2'] with level 3\n",
      "under the process [2. 2. 6. 3. 4. 2.] , resulting in the decomposition [-1.  1.  2. -1. -1.]\n",
      "The organization ['s1' 's2' 's3' 'x1' 'x2'] overproduce the species ['s1' 's2' 'x1' 'x2'] with level 4\n",
      "under the process [8. 2. 6. 3. 4. 2.] , resulting in the decomposition [-1. -1.  1. -1. -1.]\n",
      "The organization ['s1' 's2' 's3' 'x1' 'x2'] overproduce the species ['s2' 's3' 'x1'] with level 3\n",
      "under the process [14.  2.  6.  3.  5.  2.] , resulting in the decomposition [ 1. -1. -1. -1.  2.]\n",
      "The organization ['s1' 's2' 's3' 'x1' 'x2'] overproduce the species ['s2' 's3' 'x2'] with level 3\n",
      "under the process [14.  2.  6.  4.  5.  2.] , resulting in the decomposition [ 1. -1. -1.  1. -1.]\n",
      "The organization ['s1' 's2' 's3' 'x1' 'x2'] overproduce the species ['s2' 'x1' 'x2'] with level 3\n",
      "under the process [14.  2.  6.  3.  4.  2.] , resulting in the decomposition [ 1. -1.  2. -1. -1.]\n",
      "The organization ['s1' 's2' 's3' 'x1' 'x2'] overproduce the species ['s1' 's3' 'x1' 'x2'] with level 4\n",
      "under the process [3. 3. 9. 5. 7. 3.] , resulting in the decomposition [-1.  1. -1. -1. -1.]\n",
      "The organization ['s1' 's2' 's3' 'x1' 'x2'] overproduce the species ['s1' 's2' 's3' 'x1' 'x2'] with level 5\n",
      "under the process [9. 3. 9. 5. 7. 3.] , resulting in the decomposition [-1. -1. -1. -1. -1.]\n",
      "The organization ['s1' 's2' 's3' 'x1' 'x2'] overproduce the species ['s2' 's3' 'x1' 'x2'] with level 4\n",
      "under the process [21.  3.  9.  5.  7.  3.] , resulting in the decomposition [ 1. -1. -1. -1. -1.]\n"
     ]
    }
   ],
   "source": [
    "op_hasse=RN.getOpHasseNx(RN.SpIdStrArray,force_org=True)\n",
    "for i in op_hasse.nodes(data=True):\n",
    "    print(\"The organization\",RN.SpIdStrArray,\"overproduce the species\",RN.SpIdStrArray[i[0].search(1)],\"with level\",i[1]['level'])\n",
    "    print(\"under the process\",i[1]['process'],\", resulting in the decomposition\",i[1]['decomposition'])"
   ]
  }
 ],
 "metadata": {
  "kernelspec": {
   "display_name": "Python 3 (ipykernel)",
   "language": "python",
   "name": "python3"
  },
  "language_info": {
   "codemirror_mode": {
    "name": "ipython",
    "version": 3
   },
   "file_extension": ".py",
   "mimetype": "text/x-python",
   "name": "python",
   "nbconvert_exporter": "python",
   "pygments_lexer": "ipython3",
   "version": "3.11.3"
  }
 },
 "nbformat": 4,
 "nbformat_minor": 5
}
