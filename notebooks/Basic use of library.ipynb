{
 "cells": [
  {
   "cell_type": "markdown",
   "id": "dc224412",
   "metadata": {
    "editable": true,
    "slideshow": {
     "slide_type": ""
    },
    "tags": []
   },
   "source": [
    "# Basic use of library\n",
    "\n",
    "After a successful installation (see Intoduction.ipynb), the library can be imported."
   ]
  },
  {
   "cell_type": "code",
   "execution_count": 1,
   "id": "2dc65500",
   "metadata": {},
   "outputs": [],
   "source": [
    "# import sys\n",
    "# !{sys.executable} -m pip install ../. --quiet --user #installation of library in local enviorment\n",
    "from pyRN import pyRN"
   ]
  },
  {
   "cell_type": "markdown",
   "id": "4858bc75",
   "metadata": {},
   "source": [
    "Reaction networks can be loaded form a text files, please refer to `../netwoks/rn_test.txt` to see an example. Textfiles preserve [antimony](https://http://antimony.sourceforge.net/) general strucutre in terms of reaction and reaction arrows (=> for unidirectional reactions and -> for reversible reaction). So an pyRN object can be created by the following command:"
   ]
  },
  {
   "cell_type": "code",
   "execution_count": 2,
   "id": "2eddfd59",
   "metadata": {},
   "outputs": [],
   "source": [
    "file=\"../networks/autopoietic.txt\"\n",
    "RN = pyRN.setFromText(file)"
   ]
  },
  {
   "cell_type": "markdown",
   "id": "80ac9fc2",
   "metadata": {},
   "source": [
    "Alternative sbml files can be loaded:"
   ]
  },
  {
   "cell_type": "code",
   "execution_count": 3,
   "id": "513dd728",
   "metadata": {},
   "outputs": [],
   "source": [
    "# file='/Users/pmaldona/Documents/Programación/Dicta/reaction_networks/OrgTestSet/raw/BIOMD0000000013.xml'\n",
    "# RN = pyRN.setFromSbml(file,modifiers=True,bond_con=True,rand_bc=False)"
   ]
  },
  {
   "cell_type": "markdown",
   "id": "ecebe1b4",
   "metadata": {},
   "source": [
    "The latter inizialization options corresponds to:\n",
    "\n",
    "- `modifiers`: if consider modifiers species as catalizers\n",
    "- `bond_con`: if considers boundary condition species as inflow, by adding a reaction\n",
    "- `rand_bc`: Consider a random selection of the bonday condition species as inflow.\n",
    "\n",
    "Once the reaction network is inizialized, basic properties can be easily obtained:"
   ]
  },
  {
   "cell_type": "code",
   "execution_count": 4,
   "id": "54c5d554",
   "metadata": {},
   "outputs": [
    {
     "name": "stdout",
     "output_type": "stream",
     "text": [
      "Vector of species Id's\n",
      "['l' 's1' 's2']\n",
      "Vector of species names, in case of an initialization form an smbl file result can be different\n",
      "['l' 's1' 's2']\n",
      "Display species\n",
      "Species:  {l, s1, s2,}\n",
      "Display reactions\n",
      "r0:   => l \n",
      "r1:   l + s1 => 2s1 \n",
      "r2:   s1 => s2 \n",
      "r3:   l + s2 => s1 \n",
      "r4:   s2 => \n"
     ]
    }
   ],
   "source": [
    "print(\"Vector of species Id's\")\n",
    "print(RN.SpIdStrArray)\n",
    "print(\"Vector of species names, in case of an initialization form an smbl file result can be different\")\n",
    "print(RN.SpNameStrArray)\n",
    "print(\"Display species\")\n",
    "RN.printSp()\n",
    "print(\"Display reactions\")\n",
    "RN.printRp()"
   ]
  },
  {
   "cell_type": "code",
   "execution_count": 5,
   "id": "6e514b7a",
   "metadata": {},
   "outputs": [
    {
     "name": "stdout",
     "output_type": "stream",
     "text": [
      "Reactive stochiometric matrix\n"
     ]
    },
    {
     "data": {
      "text/html": [
       "<div>\n",
       "<style scoped>\n",
       "    .dataframe tbody tr th:only-of-type {\n",
       "        vertical-align: middle;\n",
       "    }\n",
       "\n",
       "    .dataframe tbody tr th {\n",
       "        vertical-align: top;\n",
       "    }\n",
       "\n",
       "    .dataframe thead th {\n",
       "        text-align: right;\n",
       "    }\n",
       "</style>\n",
       "<table border=\"1\" class=\"dataframe\">\n",
       "  <thead>\n",
       "    <tr style=\"text-align: right;\">\n",
       "      <th></th>\n",
       "      <th>0</th>\n",
       "      <th>1</th>\n",
       "      <th>2</th>\n",
       "      <th>3</th>\n",
       "      <th>4</th>\n",
       "    </tr>\n",
       "  </thead>\n",
       "  <tbody>\n",
       "    <tr>\n",
       "      <th>l</th>\n",
       "      <td>0.0</td>\n",
       "      <td>1.0</td>\n",
       "      <td>0.0</td>\n",
       "      <td>1.0</td>\n",
       "      <td>0.0</td>\n",
       "    </tr>\n",
       "    <tr>\n",
       "      <th>s1</th>\n",
       "      <td>0.0</td>\n",
       "      <td>1.0</td>\n",
       "      <td>1.0</td>\n",
       "      <td>0.0</td>\n",
       "      <td>0.0</td>\n",
       "    </tr>\n",
       "    <tr>\n",
       "      <th>s2</th>\n",
       "      <td>0.0</td>\n",
       "      <td>0.0</td>\n",
       "      <td>0.0</td>\n",
       "      <td>1.0</td>\n",
       "      <td>1.0</td>\n",
       "    </tr>\n",
       "  </tbody>\n",
       "</table>\n",
       "</div>"
      ],
      "text/plain": [
       "      0    1    2    3    4\n",
       "l   0.0  1.0  0.0  1.0  0.0\n",
       "s1  0.0  1.0  1.0  0.0  0.0\n",
       "s2  0.0  0.0  0.0  1.0  1.0"
      ]
     },
     "execution_count": 5,
     "metadata": {},
     "output_type": "execute_result"
    }
   ],
   "source": [
    "print(\"Reactive stochiometric matrix\")\n",
    "RN.MrDf"
   ]
  },
  {
   "cell_type": "code",
   "execution_count": 6,
   "id": "65bde61e",
   "metadata": {},
   "outputs": [
    {
     "name": "stdout",
     "output_type": "stream",
     "text": [
      "Productive stoichimetric matrix\n"
     ]
    },
    {
     "data": {
      "text/html": [
       "<div>\n",
       "<style scoped>\n",
       "    .dataframe tbody tr th:only-of-type {\n",
       "        vertical-align: middle;\n",
       "    }\n",
       "\n",
       "    .dataframe tbody tr th {\n",
       "        vertical-align: top;\n",
       "    }\n",
       "\n",
       "    .dataframe thead th {\n",
       "        text-align: right;\n",
       "    }\n",
       "</style>\n",
       "<table border=\"1\" class=\"dataframe\">\n",
       "  <thead>\n",
       "    <tr style=\"text-align: right;\">\n",
       "      <th></th>\n",
       "      <th>0</th>\n",
       "      <th>1</th>\n",
       "      <th>2</th>\n",
       "      <th>3</th>\n",
       "      <th>4</th>\n",
       "    </tr>\n",
       "  </thead>\n",
       "  <tbody>\n",
       "    <tr>\n",
       "      <th>l</th>\n",
       "      <td>1.0</td>\n",
       "      <td>0.0</td>\n",
       "      <td>0.0</td>\n",
       "      <td>0.0</td>\n",
       "      <td>0.0</td>\n",
       "    </tr>\n",
       "    <tr>\n",
       "      <th>s1</th>\n",
       "      <td>0.0</td>\n",
       "      <td>2.0</td>\n",
       "      <td>0.0</td>\n",
       "      <td>1.0</td>\n",
       "      <td>0.0</td>\n",
       "    </tr>\n",
       "    <tr>\n",
       "      <th>s2</th>\n",
       "      <td>0.0</td>\n",
       "      <td>0.0</td>\n",
       "      <td>1.0</td>\n",
       "      <td>0.0</td>\n",
       "      <td>0.0</td>\n",
       "    </tr>\n",
       "  </tbody>\n",
       "</table>\n",
       "</div>"
      ],
      "text/plain": [
       "      0    1    2    3    4\n",
       "l   1.0  0.0  0.0  0.0  0.0\n",
       "s1  0.0  2.0  0.0  1.0  0.0\n",
       "s2  0.0  0.0  1.0  0.0  0.0"
      ]
     },
     "execution_count": 6,
     "metadata": {},
     "output_type": "execute_result"
    }
   ],
   "source": [
    "print(\"Productive stoichimetric matrix\")\n",
    "RN.MpDf"
   ]
  },
  {
   "cell_type": "code",
   "execution_count": 7,
   "id": "e01e814c",
   "metadata": {},
   "outputs": [
    {
     "name": "stdout",
     "output_type": "stream",
     "text": [
      "Stoichiometric Matrix\n"
     ]
    },
    {
     "data": {
      "text/html": [
       "<div>\n",
       "<style scoped>\n",
       "    .dataframe tbody tr th:only-of-type {\n",
       "        vertical-align: middle;\n",
       "    }\n",
       "\n",
       "    .dataframe tbody tr th {\n",
       "        vertical-align: top;\n",
       "    }\n",
       "\n",
       "    .dataframe thead th {\n",
       "        text-align: right;\n",
       "    }\n",
       "</style>\n",
       "<table border=\"1\" class=\"dataframe\">\n",
       "  <thead>\n",
       "    <tr style=\"text-align: right;\">\n",
       "      <th></th>\n",
       "      <th>0</th>\n",
       "      <th>1</th>\n",
       "      <th>2</th>\n",
       "      <th>3</th>\n",
       "      <th>4</th>\n",
       "    </tr>\n",
       "  </thead>\n",
       "  <tbody>\n",
       "    <tr>\n",
       "      <th>l</th>\n",
       "      <td>1.0</td>\n",
       "      <td>-1.0</td>\n",
       "      <td>0.0</td>\n",
       "      <td>-1.0</td>\n",
       "      <td>0.0</td>\n",
       "    </tr>\n",
       "    <tr>\n",
       "      <th>s1</th>\n",
       "      <td>0.0</td>\n",
       "      <td>1.0</td>\n",
       "      <td>-1.0</td>\n",
       "      <td>1.0</td>\n",
       "      <td>0.0</td>\n",
       "    </tr>\n",
       "    <tr>\n",
       "      <th>s2</th>\n",
       "      <td>0.0</td>\n",
       "      <td>0.0</td>\n",
       "      <td>1.0</td>\n",
       "      <td>-1.0</td>\n",
       "      <td>-1.0</td>\n",
       "    </tr>\n",
       "  </tbody>\n",
       "</table>\n",
       "</div>"
      ],
      "text/plain": [
       "      0    1    2    3    4\n",
       "l   1.0 -1.0  0.0 -1.0  0.0\n",
       "s1  0.0  1.0 -1.0  1.0  0.0\n",
       "s2  0.0  0.0  1.0 -1.0 -1.0"
      ]
     },
     "execution_count": 7,
     "metadata": {},
     "output_type": "execute_result"
    }
   ],
   "source": [
    "print(\"Stoichiometric Matrix\")\n",
    "RN.MpDf-RN.MrDf"
   ]
  },
  {
   "cell_type": "code",
   "execution_count": 8,
   "id": "04184568",
   "metadata": {},
   "outputs": [
    {
     "name": "stdout",
     "output_type": "stream",
     "text": [
      "Inflow species\n",
      "['l']\n",
      "Outflow species\n",
      "['s2']\n"
     ]
    }
   ],
   "source": [
    "print(\"Inflow species\")\n",
    "print(RN.getInflowFromSp(RN.SpIdStrArray,set_type=True))\n",
    "print(\"Outflow species\")\n",
    "print(RN.getOutflowFromSp(RN.SpIdStrArray,set_type=True))"
   ]
  },
  {
   "cell_type": "markdown",
   "id": "f93bace0",
   "metadata": {},
   "source": [
    "The functions `printSp()` and `printRp()` can receive as argument `np.arrays` of the elements to be displayed. The `getInflowFromSp` and `getOutflowFromSp` functions, the `set_type=True` the the return typpe corresponds `string np.array object`, if not, retruns a `bitarray`. \n",
    "\n",
    "There are also functions to visualize the network as well as the stoichiometric matrix:"
   ]
  },
  {
   "cell_type": "code",
   "execution_count": 9,
   "id": "58363ee3",
   "metadata": {},
   "outputs": [
    {
     "data": {
      "text/plain": [
       "<Figure size 1000x500 with 0 Axes>"
      ]
     },
     "metadata": {},
     "output_type": "display_data"
    },
    {
     "data": {
      "image/png": "[encoded data removed]",
      "text/plain": [
       "<Figure size 800x480 with 1 Axes>"
      ]
     },
     "metadata": {},
     "output_type": "display_data"
    },
    {
     "name": "stdout",
     "output_type": "stream",
     "text": [
      "Warning: When  cdn_resources is 'local' jupyter notebook has issues displaying graphics on chrome/safari. Use cdn_resources='in_line' or cdn_resources='remote' if you have issues viewing graphics in a notebook.\n",
      "RN.html\n"
     ]
    },
    {
     "data": {
      "text/html": [
       "\n",
       "        <iframe\n",
       "            width=\"500px\"\n",
       "            height=\"500px\"\n",
       "            src=\"RN.html\"\n",
       "            frameborder=\"0\"\n",
       "            allowfullscreen\n",
       "            \n",
       "        ></iframe>\n",
       "        "
      ],
      "text/plain": [
       "<IPython.lib.display.IFrame at 0x161ecfc90>"
      ]
     },
     "execution_count": 9,
     "metadata": {},
     "output_type": "execute_result"
    }
   ],
   "source": [
    "RN.plotS()\n",
    "nt=RN.getRnDisplayPv(notebook=True)\n",
    "nt.show(\"RN.html\")"
   ]
  }
 ],
 "metadata": {
  "kernelspec": {
   "display_name": "Python 3 (ipykernel)",
   "language": "python",
   "name": "python3"
  },
  "language_info": {
   "codemirror_mode": {
    "name": "ipython",
    "version": 3
   },
   "file_extension": ".py",
   "mimetype": "text/x-python",
   "name": "python",
   "nbconvert_exporter": "python",
   "pygments_lexer": "ipython3",
   "version": "3.11.4"
  }
 },
 "nbformat": 4,
 "nbformat_minor": 5
}
